{
 "cells": [
  {
   "cell_type": "code",
   "execution_count": 1,
   "metadata": {},
   "outputs": [],
   "source": [
    "import tweepy\n",
    "import configparser"
   ]
  },
  {
   "cell_type": "code",
   "execution_count": 2,
   "metadata": {},
   "outputs": [],
   "source": [
    "config = configparser.ConfigParser()\n",
    "config.read(\"config.ini\")\n",
    "\n",
    "api_key = config['twitter']['api_key']\n",
    "api_key_secret = config['twitter']['api_key_secret']\n",
    "\n",
    "access_token = config['twitter']['access_token']\n",
    "access_token_secret = config['twitter']['access_token_secret']"
   ]
  },
  {
   "cell_type": "code",
   "execution_count": 3,
   "metadata": {},
   "outputs": [],
   "source": [
    "auth = tweepy.OAuth1UserHandler(api_key, api_key_secret, access_token, access_token_secret)\n",
    "\n",
    "api = tweepy.API(auth)"
   ]
  },
  {
   "cell_type": "code",
   "execution_count": 5,
   "metadata": {},
   "outputs": [],
   "source": [
    "results = api.get_place_trends(23424976)"
   ]
  },
  {
   "cell_type": "code",
   "execution_count": 6,
   "metadata": {},
   "outputs": [
    {
     "name": "stdout",
     "output_type": "stream",
     "text": [
      "[{'trends': [{'name': '#CloseTheSky', 'url': 'http://twitter.com/search?q=%23CloseTheSky', 'promoted_content': None, 'query': '%23CloseTheSky', 'tweet_volume': 61964}, {'name': '#BanRussiafromSwift', 'url': 'http://twitter.com/search?q=%23BanRussiafromSwift', 'promoted_content': None, 'query': '%23BanRussiafromSwift', 'tweet_volume': 67993}, {'name': '#BanRussiafromSwift', 'url': 'http://twitter.com/search?q=%23BanRussiafromSwift', 'promoted_content': None, 'query': '%23BanRussiafromSwift', 'tweet_volume': 67993}, {'name': 'Kyiv', 'url': 'http://twitter.com/search?q=Kyiv', 'promoted_content': None, 'query': 'Kyiv', 'tweet_volume': 1708266}, {'name': '#нетвойне', 'url': 'http://twitter.com/search?q=%23%D0%BD%D0%B5%D1%82%D0%B2%D0%BE%D0%B9%D0%BD%D0%B5', 'promoted_content': None, 'query': '%23%D0%BD%D0%B5%D1%82%D0%B2%D0%BE%D0%B9%D0%BD%D0%B5', 'tweet_volume': 161613}, {'name': 'Ukrainian', 'url': 'http://twitter.com/search?q=Ukrainian', 'promoted_content': None, 'query': 'Ukrainian', 'tweet_volume': 2207718}, {'name': 'ИЛ-76', 'url': 'http://twitter.com/search?q=%D0%98%D0%9B-76', 'promoted_content': None, 'query': '%D0%98%D0%9B-76', 'tweet_volume': None}, {'name': 'Киеве', 'url': 'http://twitter.com/search?q=%D0%9A%D0%B8%D0%B5%D0%B2%D0%B5', 'promoted_content': None, 'query': '%D0%9A%D0%B8%D0%B5%D0%B2%D0%B5', 'tweet_volume': 59668}, {'name': '#StopPutin', 'url': 'http://twitter.com/search?q=%23StopPutin', 'promoted_content': None, 'query': '%23StopPutin', 'tweet_volume': 135877}, {'name': 'Бережи', 'url': 'http://twitter.com/search?q=%D0%91%D0%B5%D1%80%D0%B5%D0%B6%D0%B8', 'promoted_content': None, 'query': '%D0%91%D0%B5%D1%80%D0%B5%D0%B6%D0%B8', 'tweet_volume': None}, {'name': 'TO GIVE SHELTER FROM THE SKY', 'url': 'http://twitter.com/search?q=%22TO+GIVE+SHELTER+FROM+THE+SKY%22', 'promoted_content': None, 'query': '%22TO+GIVE+SHELTER+FROM+THE+SKY%22', 'tweet_volume': None}, {'name': 'Poland', 'url': 'http://twitter.com/search?q=Poland', 'promoted_content': None, 'query': 'Poland', 'tweet_volume': 435366}, {'name': 'Romanian', 'url': 'http://twitter.com/search?q=Romanian', 'promoted_content': None, 'query': 'Romanian', 'tweet_volume': 23505}, {'name': 'Kiev', 'url': 'http://twitter.com/search?q=Kiev', 'promoted_content': None, 'query': 'Kiev', 'tweet_volume': 1093485}, {'name': 'Kharkiv', 'url': 'http://twitter.com/search?q=Kharkiv', 'promoted_content': None, 'query': 'Kharkiv', 'tweet_volume': 159451}, {'name': 'Держитесь', 'url': 'http://twitter.com/search?q=%D0%94%D0%B5%D1%80%D0%B6%D0%B8%D1%82%D0%B5%D1%81%D1%8C', 'promoted_content': None, 'query': '%D0%94%D0%B5%D1%80%D0%B6%D0%B8%D1%82%D0%B5%D1%81%D1%8C', 'tweet_volume': None}, {'name': 'Слава Украине', 'url': 'http://twitter.com/search?q=%22%D0%A1%D0%BB%D0%B0%D0%B2%D0%B0+%D0%A3%D0%BA%D1%80%D0%B0%D0%B8%D0%BD%D0%B5%22', 'promoted_content': None, 'query': '%22%D0%A1%D0%BB%D0%B0%D0%B2%D0%B0+%D0%A3%D0%BA%D1%80%D0%B0%D0%B8%D0%BD%D0%B5%22', 'tweet_volume': 12782}, {'name': 'смерть', 'url': 'http://twitter.com/search?q=%D1%81%D0%BC%D0%B5%D1%80%D1%82%D1%8C', 'promoted_content': None, 'query': '%D1%81%D0%BC%D0%B5%D1%80%D1%82%D1%8C', 'tweet_volume': 18844}, {'name': 'Николаеве', 'url': 'http://twitter.com/search?q=%D0%9D%D0%B8%D0%BA%D0%BE%D0%BB%D0%B0%D0%B5%D0%B2%D0%B5', 'promoted_content': None, 'query': '%D0%9D%D0%B8%D0%BA%D0%BE%D0%BB%D0%B0%D0%B5%D0%B2%D0%B5', 'tweet_volume': None}, {'name': 'Chernobyl', 'url': 'http://twitter.com/search?q=Chernobyl', 'promoted_content': None, 'query': 'Chernobyl', 'tweet_volume': 117661}, {'name': 'тримайся', 'url': 'http://twitter.com/search?q=%D1%82%D1%80%D0%B8%D0%BC%D0%B0%D0%B9%D1%81%D1%8F', 'promoted_content': None, 'query': '%D1%82%D1%80%D0%B8%D0%BC%D0%B0%D0%B9%D1%81%D1%8F', 'tweet_volume': None}, {'name': 'Держись', 'url': 'http://twitter.com/search?q=%D0%94%D0%B5%D1%80%D0%B6%D0%B8%D1%81%D1%8C', 'promoted_content': None, 'query': '%D0%94%D0%B5%D1%80%D0%B6%D0%B8%D1%81%D1%8C', 'tweet_volume': None}, {'name': 'Харькова', 'url': 'http://twitter.com/search?q=%D0%A5%D0%B0%D1%80%D1%8C%D0%BA%D0%BE%D0%B2%D0%B0', 'promoted_content': None, 'query': '%D0%A5%D0%B0%D1%80%D1%8C%D0%BA%D0%BE%D0%B2%D0%B0', 'tweet_volume': 13150}, {'name': 'чернобыльскую аэс', 'url': 'http://twitter.com/search?q=%22%D1%87%D0%B5%D1%80%D0%BD%D0%BE%D0%B1%D1%8B%D0%BB%D1%8C%D1%81%D0%BA%D1%83%D1%8E+%D0%B0%D1%8D%D1%81%22', 'promoted_content': None, 'query': '%22%D1%87%D0%B5%D1%80%D0%BD%D0%BE%D0%B1%D1%8B%D0%BB%D1%8C%D1%81%D0%BA%D1%83%D1%8E+%D0%B0%D1%8D%D1%81%22', 'tweet_volume': None}, {'name': 'Europe', 'url': 'http://twitter.com/search?q=Europe', 'promoted_content': None, 'query': 'Europe', 'tweet_volume': 797852}, {'name': 'Змеиный', 'url': 'http://twitter.com/search?q=%D0%97%D0%BC%D0%B5%D0%B8%D0%BD%D1%8B%D0%B9', 'promoted_content': None, 'query': '%D0%97%D0%BC%D0%B5%D0%B8%D0%BD%D1%8B%D0%B9', 'tweet_volume': 31162}, {'name': 'ЧАЭС', 'url': 'http://twitter.com/search?q=%D0%A7%D0%90%D0%AD%D0%A1', 'promoted_content': None, 'query': '%D0%A7%D0%90%D0%AD%D0%A1', 'tweet_volume': None}, {'name': 'Херсон', 'url': 'http://twitter.com/search?q=%D0%A5%D0%B5%D1%80%D1%81%D0%BE%D0%BD', 'promoted_content': None, 'query': '%D0%A5%D0%B5%D1%80%D1%81%D0%BE%D0%BD', 'tweet_volume': 12937}, {'name': 'оболони', 'url': 'http://twitter.com/search?q=%D0%BE%D0%B1%D0%BE%D0%BB%D0%BE%D0%BD%D0%B8', 'promoted_content': None, 'query': '%D0%BE%D0%B1%D0%BE%D0%BB%D0%BE%D0%BD%D0%B8', 'tweet_volume': None}, {'name': 'Солнце', 'url': 'http://twitter.com/search?q=%D0%A1%D0%BE%D0%BB%D0%BD%D1%86%D0%B5', 'promoted_content': None, 'query': '%D0%A1%D0%BE%D0%BB%D0%BD%D1%86%D0%B5', 'tweet_volume': None}, {'name': 'Тримайтесь', 'url': 'http://twitter.com/search?q=%D0%A2%D1%80%D0%B8%D0%BC%D0%B0%D0%B9%D1%82%D0%B5%D1%81%D1%8C', 'promoted_content': None, 'query': '%D0%A2%D1%80%D0%B8%D0%BC%D0%B0%D0%B9%D1%82%D0%B5%D1%81%D1%8C', 'tweet_volume': None}, {'name': 'Держимся', 'url': 'http://twitter.com/search?q=%D0%94%D0%B5%D1%80%D0%B6%D0%B8%D0%BC%D1%81%D1%8F', 'promoted_content': None, 'query': '%D0%94%D0%B5%D1%80%D0%B6%D0%B8%D0%BC%D1%81%D1%8F', 'tweet_volume': None}, {'name': 'Боже', 'url': 'http://twitter.com/search?q=%D0%91%D0%BE%D0%B6%D0%B5', 'promoted_content': None, 'query': '%D0%91%D0%BE%D0%B6%D0%B5', 'tweet_volume': 16626}, {'name': 'Nigerians', 'url': 'http://twitter.com/search?q=Nigerians', 'promoted_content': None, 'query': 'Nigerians', 'tweet_volume': 58182}, {'name': 'сподіваюсь', 'url': 'http://twitter.com/search?q=%D1%81%D0%BF%D0%BE%D0%B4%D1%96%D0%B2%D0%B0%D1%8E%D1%81%D1%8C', 'promoted_content': None, 'query': '%D1%81%D0%BF%D0%BE%D0%B4%D1%96%D0%B2%D0%B0%D1%8E%D1%81%D1%8C', 'tweet_volume': None}, {'name': 'Мелитополь', 'url': 'http://twitter.com/search?q=%D0%9C%D0%B5%D0%BB%D0%B8%D1%82%D0%BE%D0%BF%D0%BE%D0%BB%D1%8C', 'promoted_content': None, 'query': '%D0%9C%D0%B5%D0%BB%D0%B8%D1%82%D0%BE%D0%BF%D0%BE%D0%BB%D1%8C', 'tweet_volume': None}, {'name': 'Фейк', 'url': 'http://twitter.com/search?q=%D0%A4%D0%B5%D0%B9%D0%BA', 'promoted_content': None, 'query': '%D0%A4%D0%B5%D0%B9%D0%BA', 'tweet_volume': 12727}, {'name': 'Molotov', 'url': 'http://twitter.com/search?q=Molotov', 'promoted_content': None, 'query': 'Molotov', 'tweet_volume': 93155}, {'name': 'Cyprus', 'url': 'http://twitter.com/search?q=Cyprus', 'promoted_content': None, 'query': 'Cyprus', 'tweet_volume': 20268}, {'name': 'Лавров', 'url': 'http://twitter.com/search?q=%D0%9B%D0%B0%D0%B2%D1%80%D0%BE%D0%B2', 'promoted_content': None, 'query': '%D0%9B%D0%B0%D0%B2%D1%80%D0%BE%D0%B2', 'tweet_volume': 15244}, {'name': 'Sumy', 'url': 'http://twitter.com/search?q=Sumy', 'promoted_content': None, 'query': 'Sumy', 'tweet_volume': 53597}, {'name': 'верим', 'url': 'http://twitter.com/search?q=%D0%B2%D0%B5%D1%80%D0%B8%D0%BC', 'promoted_content': None, 'query': '%D0%B2%D0%B5%D1%80%D0%B8%D0%BC', 'tweet_volume': None}, {'name': 'Snake Island', 'url': 'http://twitter.com/search?q=%22Snake+Island%22', 'promoted_content': None, 'query': '%22Snake+Island%22', 'tweet_volume': 149524}, {'name': 'Black Sea', 'url': 'http://twitter.com/search?q=%22Black+Sea%22', 'promoted_content': None, 'query': '%22Black+Sea%22', 'tweet_volume': 87281}, {'name': 'Lviv', 'url': 'http://twitter.com/search?q=Lviv', 'promoted_content': None, 'query': 'Lviv', 'tweet_volume': 45217}, {'name': 'Polish', 'url': 'http://twitter.com/search?q=Polish', 'promoted_content': None, 'query': 'Polish', 'tweet_volume': 102391}, {'name': 'Запорожье', 'url': 'http://twitter.com/search?q=%D0%97%D0%B0%D0%BF%D0%BE%D1%80%D0%BE%D0%B6%D1%8C%D0%B5', 'promoted_content': None, 'query': '%D0%97%D0%B0%D0%BF%D0%BE%D1%80%D0%BE%D0%B6%D1%8C%D0%B5', 'tweet_volume': None}, {'name': 'Kherson', 'url': 'http://twitter.com/search?q=Kherson', 'promoted_content': None, 'query': 'Kherson', 'tweet_volume': 76673}, {'name': 'Надеюсь', 'url': 'http://twitter.com/search?q=%D0%9D%D0%B0%D0%B4%D0%B5%D1%8E%D1%81%D1%8C', 'promoted_content': None, 'query': '%D0%9D%D0%B0%D0%B4%D0%B5%D1%8E%D1%81%D1%8C', 'tweet_volume': 40537}, {'name': 'Obolon', 'url': 'http://twitter.com/search?q=Obolon', 'promoted_content': None, 'query': 'Obolon', 'tweet_volume': 52467}], 'as_of': '2022-02-26T03:37:27Z', 'created_at': '2022-02-21T10:25:36Z', 'locations': [{'name': 'Ukraine', 'woeid': 23424976}]}]\n"
     ]
    }
   ],
   "source": [
    "print(results)"
   ]
  },
  {
   "cell_type": "code",
   "execution_count": null,
   "metadata": {},
   "outputs": [],
   "source": []
  }
 ],
 "metadata": {
  "interpreter": {
   "hash": "44c90b7005698b4c1d41f70ef9379c28c26d38a743da5b7e0659e4b7534d3cab"
  },
  "kernelspec": {
   "display_name": "Python 3.9.10 64-bit (windows store)",
   "language": "python",
   "name": "python3"
  },
  "language_info": {
   "codemirror_mode": {
    "name": "ipython",
    "version": 3
   },
   "file_extension": ".py",
   "mimetype": "text/x-python",
   "name": "python",
   "nbconvert_exporter": "python",
   "pygments_lexer": "ipython3",
   "version": "3.9.10"
  },
  "orig_nbformat": 4
 },
 "nbformat": 4,
 "nbformat_minor": 2
}
